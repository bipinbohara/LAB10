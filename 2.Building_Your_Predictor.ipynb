{
 "cells": [
  {
   "cell_type": "markdown",
   "metadata": {},
   "source": [
    "# Building Your Predictor\n",
    "\n",
    "The next step after preparing and importing your data via `Getting_Data_Ready.ipynb` is to build your first model.\n",
    "\n",
    "The overall process for this is:\n",
    "\n",
    "* Setup\n",
    "* Create a Predictor\n",
    "* Deploy a Predictor\n",
    "* Obtain a Forecast\n",
    "\n",
    "To get started, simply execute the cells below:\n"
   ]
  },
  {
   "cell_type": "markdown",
   "metadata": {},
   "source": [
    "## Setup\n"
   ]
  },
  {
   "cell_type": "markdown",
   "metadata": {},
   "source": [
    "Import the standard Python Libraries that are used in this lesson."
   ]
  },
  {
   "cell_type": "code",
   "execution_count": 1,
   "metadata": {},
   "outputs": [],
   "source": [
    "import sys\n",
    "import os\n",
    "import time\n",
    "\n",
    "import boto3\n",
    "\n",
    "# importing forecast notebook utility from notebooks/common directory\n",
    "sys.path.insert( 0, os.path.abspath(\"../../common\") )\n",
    "import util"
   ]
  },
  {
   "cell_type": "markdown",
   "metadata": {},
   "source": [
    "The line below will retrieve your shared variables from the first notebook."
   ]
  },
  {
   "cell_type": "code",
   "execution_count": 2,
   "metadata": {},
   "outputs": [],
   "source": [
    "%store -r"
   ]
  },
  {
   "cell_type": "markdown",
   "metadata": {},
   "source": [
    "The last part of the setup process is to validate that your account can communicate with Amazon Forecast, the cell below does just that."
   ]
  },
  {
   "cell_type": "code",
   "execution_count": 3,
   "metadata": {},
   "outputs": [],
   "source": [
    "session = boto3.Session(region_name=region) \n",
    "forecast = session.client(service_name='forecast') \n",
    "forecastquery = session.client(service_name='forecastquery')"
   ]
  },
  {
   "cell_type": "markdown",
   "metadata": {},
   "source": [
    "## Create a Predictor\n",
    "\n",
    "Now in the previous notebook, your data was imported to be used by Forecast, here we will once again define your dataset information and then start building your model or predictor."
   ]
  },
  {
   "cell_type": "markdown",
   "metadata": {},
   "source": [
    "Forecast horizon is the number of number of time points to predicted in the future. For weekly data, a value of 12 means 12 weeks. Our example is hourly data, we try forecast the next day, so we can set to 24."
   ]
  },
  {
   "cell_type": "code",
   "execution_count": 4,
   "metadata": {},
   "outputs": [],
   "source": [
    "predictorName= project+'_deeparp_algo'"
   ]
  },
  {
   "cell_type": "code",
   "execution_count": 5,
   "metadata": {},
   "outputs": [],
   "source": [
    "forecastHorizon = 24"
   ]
  },
  {
   "cell_type": "code",
   "execution_count": 6,
   "metadata": {},
   "outputs": [],
   "source": [
    "algorithmArn = 'arn:aws:forecast:::algorithm/Deep_AR_Plus'"
   ]
  },
  {
   "cell_type": "code",
   "execution_count": 7,
   "metadata": {},
   "outputs": [],
   "source": [
    "create_predictor_response=forecast.create_predictor(PredictorName=predictorName, \n",
    "                                                  AlgorithmArn=algorithmArn,\n",
    "                                                  ForecastHorizon=forecastHorizon,\n",
    "                                                  PerformAutoML= False,\n",
    "                                                  PerformHPO=False,\n",
    "                                                  EvaluationParameters= {\"NumberOfBacktestWindows\": 1, \n",
    "                                                                         \"BackTestWindowOffset\": 24}, \n",
    "                                                  InputDataConfig= {\"DatasetGroupArn\": datasetGroupArn},\n",
    "                                                  FeaturizationConfig= {\"ForecastFrequency\": \"H\", \n",
    "                                                                        \"Featurizations\": \n",
    "                                                                        [\n",
    "                                                                          {\"AttributeName\": \"target_value\", \n",
    "                                                                           \"FeaturizationPipeline\": \n",
    "                                                                            [\n",
    "                                                                              {\"FeaturizationMethodName\": \"filling\", \n",
    "                                                                               \"FeaturizationMethodParameters\": \n",
    "                                                                                {\"frontfill\": \"none\", \n",
    "                                                                                 \"middlefill\": \"zero\", \n",
    "                                                                                 \"backfill\": \"zero\"}\n",
    "                                                                              }\n",
    "                                                                            ]\n",
    "                                                                          }\n",
    "                                                                        ]\n",
    "                                                                       }\n",
    "                                                 )"
   ]
  },
  {
   "cell_type": "code",
   "execution_count": 8,
   "metadata": {},
   "outputs": [],
   "source": [
    "predictor_arn=create_predictor_response['PredictorArn']"
   ]
  },
  {
   "cell_type": "markdown",
   "metadata": {},
   "source": [
    "Check the status of the predictor. When the status change from **CREATE_IN_PROGRESS** to **ACTIVE**, we can continue to next steps. Depending on data size, model selection and hyper parameters，it can take 10 mins to more than one hour to be **ACTIVE**."
   ]
  },
  {
   "cell_type": "code",
   "execution_count": 9,
   "metadata": {},
   "outputs": [
    {
     "name": "stdout",
     "output_type": "stream",
     "text": [
      "CREATE_IN_PROGRESS .....................................................................................................................................................................................\n",
      "ACTIVE \n"
     ]
    }
   ],
   "source": [
    "status_indicator = util.StatusIndicator()\n",
    "\n",
    "while True:\n",
    "    status = forecast.describe_predictor(PredictorArn=predictor_arn)['Status']\n",
    "    status_indicator.update(status)\n",
    "    if status in ('ACTIVE', 'CREATE_FAILED'): break\n",
    "    time.sleep(10)\n",
    "\n",
    "status_indicator.end()"
   ]
  },
  {
   "cell_type": "markdown",
   "metadata": {},
   "source": [
    "### Get Error Metrics"
   ]
  },
  {
   "cell_type": "code",
   "execution_count": 10,
   "metadata": {},
   "outputs": [
    {
     "data": {
      "text/plain": [
       "{'PredictorEvaluationResults': [{'AlgorithmArn': 'arn:aws:forecast:::algorithm/Deep_AR_Plus',\n",
       "   'TestWindows': [{'EvaluationType': 'SUMMARY',\n",
       "     'Metrics': {'RMSE': 8.405928748319932,\n",
       "      'WeightedQuantileLosses': [{'Quantile': 0.9,\n",
       "        'LossValue': 0.05267879218785261},\n",
       "       {'Quantile': 0.5, 'LossValue': 0.10505499708777033},\n",
       "       {'Quantile': 0.1, 'LossValue': 0.03746449342927335}],\n",
       "      'ErrorMetrics': [{'ForecastType': 'mean',\n",
       "        'WAPE': 0.10718730300749145,\n",
       "        'RMSE': 8.405928748319932}]}},\n",
       "    {'TestWindowStart': datetime.datetime(2014, 10, 30, 0, 0, tzinfo=tzlocal()),\n",
       "     'TestWindowEnd': datetime.datetime(2014, 10, 31, 0, 0, tzinfo=tzlocal()),\n",
       "     'ItemCount': 3,\n",
       "     'EvaluationType': 'COMPUTED',\n",
       "     'Metrics': {'RMSE': 8.405928748319932,\n",
       "      'WeightedQuantileLosses': [{'Quantile': 0.9,\n",
       "        'LossValue': 0.05267879218785261},\n",
       "       {'Quantile': 0.5, 'LossValue': 0.10505499708777033},\n",
       "       {'Quantile': 0.1, 'LossValue': 0.03746449342927335}],\n",
       "      'ErrorMetrics': [{'ForecastType': 'mean',\n",
       "        'WAPE': 0.10718730300749145,\n",
       "        'RMSE': 8.405928748319932}]}}]}],\n",
       " 'ResponseMetadata': {'RequestId': '2425229f-7d90-45a0-b3fc-fb3a8f715e30',\n",
       "  'HTTPStatusCode': 200,\n",
       "  'HTTPHeaders': {'content-type': 'application/x-amz-json-1.1',\n",
       "   'date': 'Sat, 12 Dec 2020 05:22:00 GMT',\n",
       "   'x-amzn-requestid': '2425229f-7d90-45a0-b3fc-fb3a8f715e30',\n",
       "   'content-length': '848',\n",
       "   'connection': 'keep-alive'},\n",
       "  'RetryAttempts': 0}}"
      ]
     },
     "execution_count": 10,
     "metadata": {},
     "output_type": "execute_result"
    }
   ],
   "source": [
    "forecast.get_accuracy_metrics(PredictorArn=predictor_arn)"
   ]
  },
  {
   "cell_type": "markdown",
   "metadata": {},
   "source": [
    "## Create a Forecast\n",
    "\n",
    "Now create a forecast using the model that was trained"
   ]
  },
  {
   "cell_type": "code",
   "execution_count": 11,
   "metadata": {},
   "outputs": [],
   "source": [
    "forecastName= project+'_deeparp_algo_forecast'"
   ]
  },
  {
   "cell_type": "code",
   "execution_count": 12,
   "metadata": {},
   "outputs": [],
   "source": [
    "create_forecast_response=forecast.create_forecast(ForecastName=forecastName,\n",
    "                                                  PredictorArn=predictor_arn)\n",
    "forecast_arn = create_forecast_response['ForecastArn']"
   ]
  },
  {
   "cell_type": "markdown",
   "metadata": {},
   "source": [
    "Check the status of the forecast process, when the status change from **CREATE_IN_PROGRESS** to **ACTIVE**, we can continue to next steps. Depending on data size, model selection and hyper parameters，it can take 10 mins to more than one hour to be **ACTIVE**."
   ]
  },
  {
   "cell_type": "code",
   "execution_count": 13,
   "metadata": {},
   "outputs": [
    {
     "name": "stdout",
     "output_type": "stream",
     "text": [
      "CREATE_PENDING \n",
      "CREATE_IN_PROGRESS .............................................................................................................................................................................................\n",
      "ACTIVE \n"
     ]
    }
   ],
   "source": [
    "status_indicator = util.StatusIndicator()\n",
    "\n",
    "while True:\n",
    "    status = forecast.describe_forecast(ForecastArn=forecast_arn)['Status']\n",
    "    status_indicator.update(status)\n",
    "    if status in ('ACTIVE', 'CREATE_FAILED'): break\n",
    "    time.sleep(10)\n",
    "\n",
    "status_indicator.end()"
   ]
  },
  {
   "cell_type": "markdown",
   "metadata": {},
   "source": [
    "### Get Forecast"
   ]
  },
  {
   "cell_type": "markdown",
   "metadata": {},
   "source": [
    "Once created, the forecast results are ready and you view them. "
   ]
  },
  {
   "cell_type": "code",
   "execution_count": 14,
   "metadata": {},
   "outputs": [
    {
     "name": "stdout",
     "output_type": "stream",
     "text": [
      "arn:aws:forecast:us-east-1:816355336482:forecast/util_power_forecastdemo_deeparp_algo_forecast\n",
      "\n",
      "{'Forecast': {'Predictions': {'p10': [{'Timestamp': '2014-10-31T00:00:00', 'Value': 63.73909378051758}, {'Timestamp': '2014-10-31T01:00:00', 'Value': 68.32429504394531}, {'Timestamp': '2014-10-31T02:00:00', 'Value': 73.37926483154297}, {'Timestamp': '2014-10-31T03:00:00', 'Value': 70.11095428466797}, {'Timestamp': '2014-10-31T04:00:00', 'Value': 70.57688903808594}, {'Timestamp': '2014-10-31T05:00:00', 'Value': 73.6920394897461}, {'Timestamp': '2014-10-31T06:00:00', 'Value': 77.81713104248047}, {'Timestamp': '2014-10-31T07:00:00', 'Value': 82.58638763427734}, {'Timestamp': '2014-10-31T08:00:00', 'Value': 97.61515808105469}, {'Timestamp': '2014-10-31T09:00:00', 'Value': 164.96311950683594}, {'Timestamp': '2014-10-31T10:00:00', 'Value': 179.42367553710938}, {'Timestamp': '2014-10-31T11:00:00', 'Value': 164.8624725341797}, {'Timestamp': '2014-10-31T12:00:00', 'Value': 168.32508850097656}, {'Timestamp': '2014-10-31T13:00:00', 'Value': 143.743408203125}, {'Timestamp': '2014-10-31T14:00:00', 'Value': 131.95486450195312}, {'Timestamp': '2014-10-31T15:00:00', 'Value': 161.9210205078125}, {'Timestamp': '2014-10-31T16:00:00', 'Value': 149.74851989746094}, {'Timestamp': '2014-10-31T17:00:00', 'Value': 148.00259399414062}, {'Timestamp': '2014-10-31T18:00:00', 'Value': 150.0673828125}, {'Timestamp': '2014-10-31T19:00:00', 'Value': 139.55772399902344}, {'Timestamp': '2014-10-31T20:00:00', 'Value': 117.7100601196289}, {'Timestamp': '2014-10-31T21:00:00', 'Value': 88.99017333984375}, {'Timestamp': '2014-10-31T22:00:00', 'Value': 74.84892272949219}, {'Timestamp': '2014-10-31T23:00:00', 'Value': 71.41996765136719}], 'p50': [{'Timestamp': '2014-10-31T00:00:00', 'Value': 69.63790893554688}, {'Timestamp': '2014-10-31T01:00:00', 'Value': 73.7481460571289}, {'Timestamp': '2014-10-31T02:00:00', 'Value': 77.70043182373047}, {'Timestamp': '2014-10-31T03:00:00', 'Value': 75.9312515258789}, {'Timestamp': '2014-10-31T04:00:00', 'Value': 75.66027069091797}, {'Timestamp': '2014-10-31T05:00:00', 'Value': 80.12612915039062}, {'Timestamp': '2014-10-31T06:00:00', 'Value': 83.22657012939453}, {'Timestamp': '2014-10-31T07:00:00', 'Value': 88.82258605957031}, {'Timestamp': '2014-10-31T08:00:00', 'Value': 111.5218734741211}, {'Timestamp': '2014-10-31T09:00:00', 'Value': 198.1075897216797}, {'Timestamp': '2014-10-31T10:00:00', 'Value': 215.37278747558594}, {'Timestamp': '2014-10-31T11:00:00', 'Value': 200.42713928222656}, {'Timestamp': '2014-10-31T12:00:00', 'Value': 199.90382385253906}, {'Timestamp': '2014-10-31T13:00:00', 'Value': 171.9763641357422}, {'Timestamp': '2014-10-31T14:00:00', 'Value': 154.20399475097656}, {'Timestamp': '2014-10-31T15:00:00', 'Value': 194.4891815185547}, {'Timestamp': '2014-10-31T16:00:00', 'Value': 186.65396118164062}, {'Timestamp': '2014-10-31T17:00:00', 'Value': 174.83584594726562}, {'Timestamp': '2014-10-31T18:00:00', 'Value': 173.5467987060547}, {'Timestamp': '2014-10-31T19:00:00', 'Value': 163.06858825683594}, {'Timestamp': '2014-10-31T20:00:00', 'Value': 144.68618774414062}, {'Timestamp': '2014-10-31T21:00:00', 'Value': 106.40515899658203}, {'Timestamp': '2014-10-31T22:00:00', 'Value': 88.93626403808594}, {'Timestamp': '2014-10-31T23:00:00', 'Value': 83.03101348876953}], 'p90': [{'Timestamp': '2014-10-31T00:00:00', 'Value': 74.48313903808594}, {'Timestamp': '2014-10-31T01:00:00', 'Value': 79.34442901611328}, {'Timestamp': '2014-10-31T02:00:00', 'Value': 84.20230102539062}, {'Timestamp': '2014-10-31T03:00:00', 'Value': 82.09956359863281}, {'Timestamp': '2014-10-31T04:00:00', 'Value': 80.30142211914062}, {'Timestamp': '2014-10-31T05:00:00', 'Value': 86.14881896972656}, {'Timestamp': '2014-10-31T06:00:00', 'Value': 92.1102523803711}, {'Timestamp': '2014-10-31T07:00:00', 'Value': 97.31782531738281}, {'Timestamp': '2014-10-31T08:00:00', 'Value': 127.94266510009766}, {'Timestamp': '2014-10-31T09:00:00', 'Value': 224.9397735595703}, {'Timestamp': '2014-10-31T10:00:00', 'Value': 253.17489624023438}, {'Timestamp': '2014-10-31T11:00:00', 'Value': 238.16009521484375}, {'Timestamp': '2014-10-31T12:00:00', 'Value': 240.3205108642578}, {'Timestamp': '2014-10-31T13:00:00', 'Value': 202.3520050048828}, {'Timestamp': '2014-10-31T14:00:00', 'Value': 181.33644104003906}, {'Timestamp': '2014-10-31T15:00:00', 'Value': 227.1292266845703}, {'Timestamp': '2014-10-31T16:00:00', 'Value': 220.20697021484375}, {'Timestamp': '2014-10-31T17:00:00', 'Value': 204.49099731445312}, {'Timestamp': '2014-10-31T18:00:00', 'Value': 207.0686492919922}, {'Timestamp': '2014-10-31T19:00:00', 'Value': 183.84506225585938}, {'Timestamp': '2014-10-31T20:00:00', 'Value': 166.06716918945312}, {'Timestamp': '2014-10-31T21:00:00', 'Value': 121.03072357177734}, {'Timestamp': '2014-10-31T22:00:00', 'Value': 103.01861572265625}, {'Timestamp': '2014-10-31T23:00:00', 'Value': 98.01705932617188}]}}, 'ResponseMetadata': {'RequestId': 'dde3544a-e331-4d23-af41-1eaf2cfbac15', 'HTTPStatusCode': 200, 'HTTPHeaders': {'content-type': 'application/x-amz-json-1.1', 'date': 'Sat, 12 Dec 2020 05:53:59 GMT', 'x-amzn-requestid': 'dde3544a-e331-4d23-af41-1eaf2cfbac15', 'content-length': '4536', 'connection': 'keep-alive'}, 'RetryAttempts': 0}}\n"
     ]
    }
   ],
   "source": [
    "print(forecast_arn)\n",
    "print()\n",
    "forecastResponse = forecastquery.query_forecast(\n",
    "    ForecastArn=forecast_arn,\n",
    "    Filters={\"item_id\":\"client_12\"}\n",
    ")\n",
    "print(forecastResponse)"
   ]
  },
  {
   "cell_type": "markdown",
   "metadata": {},
   "source": [
    "## Next Steps\n",
    "\n",
    "Now that your forecast has been created, to evaluate it use `3.Evaluating_Your_Predictor.ipynb` but before opening it, execute the cell below to share your variables again with the next notebook."
   ]
  },
  {
   "cell_type": "code",
   "execution_count": 15,
   "metadata": {},
   "outputs": [
    {
     "name": "stdout",
     "output_type": "stream",
     "text": [
      "Stored 'forecast_arn' (str)\n",
      "Stored 'predictor_arn' (str)\n"
     ]
    }
   ],
   "source": [
    "%store forecast_arn\n",
    "%store predictor_arn"
   ]
  },
  {
   "cell_type": "code",
   "execution_count": null,
   "metadata": {},
   "outputs": [],
   "source": []
  }
 ],
 "metadata": {
  "kernelspec": {
   "display_name": "conda_python3",
   "language": "python",
   "name": "conda_python3"
  },
  "language_info": {
   "codemirror_mode": {
    "name": "ipython",
    "version": 3
   },
   "file_extension": ".py",
   "mimetype": "text/x-python",
   "name": "python",
   "nbconvert_exporter": "python",
   "pygments_lexer": "ipython3",
   "version": "3.6.10"
  }
 },
 "nbformat": 4,
 "nbformat_minor": 4
}
